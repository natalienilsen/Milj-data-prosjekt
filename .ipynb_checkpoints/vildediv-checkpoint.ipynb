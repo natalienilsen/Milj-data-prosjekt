{
 "cells": [
  {
   "cell_type": "code",
   "execution_count": 1,
   "metadata": {},
   "outputs": [
    {
     "ename": "",
     "evalue": "",
     "output_type": "error",
     "traceback": [
      "\u001b[1;31mFailed to start the Kernel. \n",
      "\u001b[1;31mUnable to start Kernel 'venv (Python 3.13.1)' due to a timeout waiting for the ports to get used. \n",
      "\u001b[1;31mView Jupyter <a href='command:jupyter.viewOutput'>log</a> for further details."
     ]
    }
   ],
   "source": [
    "import numpy as np\n",
    "import matplotlib.pyplot as plt\n",
    "import pandas as pd\n",
    "import os"
   ]
  },
  {
   "cell_type": "code",
   "execution_count": null,
   "metadata": {},
   "outputs": [
    {
     "ename": "",
     "evalue": "",
     "output_type": "error",
     "traceback": [
      "\u001b[1;31mFailed to start the Kernel. \n",
      "\u001b[1;31mUnable to start Kernel 'venv (Python 3.13.1)' due to a timeout waiting for the ports to get used. \n",
      "\u001b[1;31mView Jupyter <a href='command:jupyter.viewOutput'>log</a> for further details."
     ]
    }
   ],
   "source": [
    "# Program to plot 2-D Heat map \n",
    "# using matplotlib.pyplot.imshow() method \n",
    "  \n",
    "data = np.random.random(( 12 , 12 )) \n",
    "plt.imshow( data ) \n",
    "  \n",
    "plt.title( \"2-D Heat Map\" ) \n",
    "plt.show()"
   ]
  },
  {
   "cell_type": "code",
   "execution_count": null,
   "metadata": {},
   "outputs": [
    {
     "ename": "",
     "evalue": "",
     "output_type": "error",
     "traceback": [
      "\u001b[1;31mFailed to start the Kernel. \n",
      "\u001b[1;31mUnable to start Kernel 'venv (Python 3.13.1)' due to a timeout waiting for the ports to get used. \n",
      "\u001b[1;31mView Jupyter <a href='command:jupyter.viewOutput'>log</a> for further details."
     ]
    }
   ],
   "source": [
    "#KLADD databehandling\n",
    "\n",
    "#----------------------------------------------------------\n",
    "#---SJEKKER FOR IKKE-EKSISTERENDE VERDIER OG NULLVERDIER---\n",
    "#----------------------------------------------------------\n",
    "def check_missing_and_zero(df):\n",
    "    print(\"\\n🔍 Sjekker etter manglende verdier (NaN):\")\n",
    "    print(df.isna().sum())\n",
    "    print(\"\\n🔍 Sjekker etter null-verdier (0):\")\n",
    "    print((df == 0).sum())\n",
    "    \n",
    "def check_NaN_and_zero(filepath):\n",
    "    if not os.path.exists(filepath):\n",
    "        print(\"Fant ikke filen :(\")\n",
    "    else:\n",
    "        df = pd.read_csv(filepath)\n",
    "\n",
    "\n",
    "#--------------------------\n",
    "#---RENSER DATAINNHOLDET---\n",
    "#--------------------------\n",
    "def clean_data(df):\n",
    "    \"\"\"Fjerner duplikater og uregelmessige verdier\"\"\"\n",
    "    # Fjern duplikater\n",
    "    df = df.drop_duplicates()\n",
    "\n",
    "    # Fjern rader med NaN\n",
    "    df = df.dropna()\n",
    "\n",
    "    # Fjern rader med AQI = -9999 eller AQI <= 0\n",
    "    df = df[df['AQI'] > 0]\n",
    "    df = df[df['AQI'] != -9999]\n",
    "\n",
    "    return df\n",
    "\n",
    "#-----------------------------\n",
    "#---STANDARISERER KOLONNENE---\n",
    "#-----------------------------\n",
    "#****Denne er ikke riktig****#\n",
    "def standardize_columns(df):\n",
    "    \"\"\"Standardiserer kolonnenavn til engelsk og snake_case\"\"\"\n",
    "    df = df.rename(columns={\n",
    "        \"By\": \"city\",\n",
    "        \"AQI\": \"aqi\",\n",
    "        \"Kategori\": \"category\",\n",
    "        \"Dominerende forurensning\": \"main_pollutant\"\n",
    "    })\n",
    "    return df\n",
    "\n",
    "\n",
    "#--------------------------------------\n",
    "#---LAGRER RENSET DATA I EN NY MAPPE---\n",
    "#--------------------------------------\n",
    "def save_cleaned_data(df, output_path=\"data/clean/luftkvalitet_nilu.csv\"):\n",
    "    \"\"\"Lagrer renset og formatert data til ny CSV-fil\"\"\"\n",
    "    os.makedirs(os.path.dirname(output_path), exist_ok=True)\n",
    "    df.to_csv(output_path, index=False)\n",
    "    print(f\"\\n✅ Renset data lagret til: {output_path}\")\n",
    "\n",
    "\n",
    "#---------------------\n",
    "#---HOVEDPROGRAMMET---\n",
    "#---------------------\n",
    "input_fil = filepath = \"/Users/vildevikane/Desktop/Milj-data-prosjekt/data/luftkvalitet_nilu.csv\"\n",
    "\n",
    "def behandle_data(input_fil):\n",
    "    \"\"\"Hovedfunksjon for å kjøre alle stegene\"\"\"\n",
    "    print(\"📥 Leser inn data...\")\n",
    "    df = load_data(input_fil)\n",
    "\n",
    "    check_missing_and_zero(df)\n",
    "\n",
    "    print(\"\\n🧹 Rydder og renser data...\")\n",
    "    df = clean_data(df)\n",
    "\n",
    "    print(\"\\n🔠 Standardiserer kolonnenavn...\")\n",
    "    df = standardize_columns(df)\n",
    "\n",
    "    save_cleaned_data(df)\n",
    "\n",
    "    print(\"\\n🚀 Data er klar for analyse og visualisering!\")\n",
    "\n",
    "\n",
    "# Kjør kun hvis filen kjøres direkte\n",
    "if __name__ == \"__main__\":\n",
    "    behandle_data(\"data/luftkvalitet_nilu.csv\")"
   ]
  }
 ],
 "metadata": {
  "kernelspec": {
   "display_name": "Python 3 (ipykernel)",
   "language": "python",
   "name": "python3"
  },
  "language_info": {
   "codemirror_mode": {
    "name": "ipython",
    "version": 3
   },
   "file_extension": ".py",
   "mimetype": "text/x-python",
   "name": "python",
   "nbconvert_exporter": "python",
   "pygments_lexer": "ipython3",
   "version": "3.11.7"
  }
 },
 "nbformat": 4,
 "nbformat_minor": 2
}
