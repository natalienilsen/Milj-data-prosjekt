{
 "cells": [
  {
   "cell_type": "code",
   "execution_count": 7,
   "metadata": {},
   "outputs": [],
   "source": [
    "import unittest\n",
    "import sys\n",
    "import os\n",
    "import pandas as pd\n",
    "from io import StringIO\n",
    "sys.path.append(os.path.abspath(\"../src\"))\n",
    "from databehandling import clean_and_save_data, validate_luftkvalitet_data, check_odd_values\n",
    "\n",
    "\n",
    "\n",
    "class TestDatabehandling(unittest.TestCase):\n",
    "\n",
    "    def setUp(self): #Setter opp testmiljøet\n",
    "        #Laget dummy-data med både gyldige og ugyldige rader\n",
    "        self.raw_data = pd.DataFrame({\n",
    "            \"AQI\": [100, -999, 300, 0, 550],\n",
    "            \"city\": [\"Oslo\", \"  paris\", \"Berlin\", None, \"Madrid\"],\n",
    "            \"category\": [\"good\", \"moderate\", \"poor\", \"good\", \"severe\"],\n",
    "            \"main_pollutant\": [\"pm2_5\", \"no2\", \"o3\", \"pm10\", \"co\"]\n",
    "        })\n",
    "        self.test_raw_path = \"test_raw.csv\"\n",
    "        self.test_clean_path = \"test_clean.csv\"\n",
    "        self.raw_data.to_csv(self.test_raw_path, index=False)\n",
    "\n",
    "    def tearDown(self): #Rydder opp etter hver test\n",
    "        for f in [self.test_raw_path, self.test_clean_path]:\n",
    "            if os.path.exists(f):\n",
    "                os.remove(f)\n",
    "\n",
    "    def test_raw_file_created(self): #Sjekker at testfil ble lagret riktig\n",
    "        \"\"\"Sjekker at testfil ble lagret riktig\"\"\"\n",
    "        self.assertTrue(os.path.exists(self.test_raw_path))\n",
    "        df = pd.read_csv(self.test_raw_path)\n",
    "        self.assertEqual(len(df), 5)\n",
    "        self.assertIn(\"AQI\", df.columns)\n",
    "\n",
    "    def test_clean_and_save_data(self): #Sjekker at ugyldige AQI og duplikater fjernes\n",
    "        \"\"\"Tester at ugyldige AQI og duplikater fjernes\"\"\"\n",
    "        clean_and_save_data(self.test_raw_path, self.test_clean_path)\n",
    "        self.assertTrue(os.path.exists(self.test_clean_path))\n",
    "\n",
    "        df_clean = pd.read_csv(self.test_clean_path)\n",
    "        print(df_clean[\"aqi\"])\n",
    "        \n",
    "        #Kolonnenavn som skal være normalisert\n",
    "        self.assertIn(\"aqi\", df_clean.columns)\n",
    "        self.assertTrue((df_clean[\"aqi\"] > 0).all())\n",
    "        self.assertTrue((df_clean[\"aqi\"] <= 500).all())\n",
    "        self.assertNotIn(-999, df_clean[\"aqi\"].values)\n",
    "\n",
    "        #Sjekker at 'city' er renset og standardisert\n",
    "        self.assertTrue(df_clean[\"city\"].str[0].str.isupper().all())\n",
    "\n",
    "    def test_validate_luftkvalitet_data(self): #Sjekker at validate erturner riktig struktur\n",
    "        \"\"\"Tester at validate returnerer riktig struktur\"\"\"\n",
    "        clean_and_save_data(self.test_raw_path, self.test_clean_path)\n",
    "        df_clean = pd.read_csv(self.test_clean_path)\n",
    "        report = validate_luftkvalitet_data(df_clean)\n",
    "\n",
    "        self.assertIsInstance(report, dict)\n",
    "        self.assertIn(\"missing_values\", report)\n",
    "        self.assertIn(\"aqi_stats\", report)\n",
    "        self.assertIn(\"unique_categories\", report)\n",
    "\n",
    "    def test_check_odd_values_output(self):\n",
    "        \"\"\"Tester at funksjonen skriver ut informasjon (manuelt visuell sjekk)\"\"\"\n",
    "        #Rediriger output til buffer for å analysere print\n",
    "        import sys\n",
    "        captured_output = StringIO()\n",
    "        sys.stdout = captured_output\n",
    "\n",
    "        check_odd_values(self.test_raw_path)\n",
    "\n",
    "        sys.stdout = sys.__stdout__  \n",
    "        output = captured_output.getvalue()\n",
    "        self.assertIn(\"Antall NaN-verdier\", output)\n",
    "        self.assertIn(\"Duplikater\", output)\n",
    "\n",
    "    def test_file_not_found(self): #Sjekker at funksjonen håndterer manglende fil.\n",
    "        \"\"\"Tester at funksjonen håndterer manglende fil\"\"\"\n",
    "        with self.assertRaises(FileNotFoundError):\n",
    "            pd.read_csv(\"fil_som_ikke_finnes.csv\")\n",
    "\n",
    "        #check_odd_values skal ikke kaste feil, men skrive ut\n",
    "        import sys\n",
    "        captured = StringIO()\n",
    "        sys.stdout = captured\n",
    "        check_odd_values(\"fil_som_ikke_finnes.csv\")\n",
    "        sys.stdout = sys.__stdout__\n",
    "        self.assertIn(\"Filen finnes ikke\", captured.getvalue())\n",
    "\n",
    "\n",
    "#if __name__ == \"__main__\":\n",
    "#    unittest.main()\n"
   ]
  },
  {
   "cell_type": "code",
   "execution_count": 8,
   "metadata": {},
   "outputs": [
    {
     "name": "stderr",
     "output_type": "stream",
     "text": [
      ".\n",
      "----------------------------------------------------------------------\n",
      "Ran 1 test in 0.009s\n",
      "\n",
      "OK\n"
     ]
    },
    {
     "data": {
      "text/plain": [
       "<unittest.runner.TextTestResult run=1 errors=0 failures=0>"
      ]
     },
     "execution_count": 8,
     "metadata": {},
     "output_type": "execute_result"
    }
   ],
   "source": [
    "suite = unittest.TestSuite()\n",
    "suite.addTest(TestDatabehandling(\"test_raw_file_created\"))\n",
    "runner = unittest.TextTestRunner()\n",
    "runner.run(suite)"
   ]
  },
  {
   "cell_type": "code",
   "execution_count": 9,
   "metadata": {},
   "outputs": [
    {
     "name": "stderr",
     "output_type": "stream",
     "text": [
      ".\n",
      "----------------------------------------------------------------------\n",
      "Ran 1 test in 0.024s\n",
      "\n",
      "OK\n"
     ]
    },
    {
     "name": "stdout",
     "output_type": "stream",
     "text": [
      "Renser filen\n",
      "Renset data lagret til: test_clean.csv\n",
      "\n",
      "0    100\n",
      "1    300\n",
      "Name: aqi, dtype: int64\n"
     ]
    },
    {
     "data": {
      "text/plain": [
       "<unittest.runner.TextTestResult run=1 errors=0 failures=0>"
      ]
     },
     "execution_count": 9,
     "metadata": {},
     "output_type": "execute_result"
    }
   ],
   "source": [
    "suite = unittest.TestSuite()\n",
    "suite.addTest(TestDatabehandling(\"test_clean_and_save_data\"))\n",
    "runner = unittest.TextTestRunner()\n",
    "runner.run(suite)"
   ]
  },
  {
   "cell_type": "code",
   "execution_count": 10,
   "metadata": {},
   "outputs": [
    {
     "name": "stderr",
     "output_type": "stream",
     "text": [
      ".\n",
      "----------------------------------------------------------------------\n",
      "Ran 1 test in 0.013s\n",
      "\n",
      "OK\n"
     ]
    },
    {
     "name": "stdout",
     "output_type": "stream",
     "text": [
      "Renser filen\n",
      "Renset data lagret til: test_clean.csv\n",
      "\n"
     ]
    },
    {
     "data": {
      "text/plain": [
       "<unittest.runner.TextTestResult run=1 errors=0 failures=0>"
      ]
     },
     "execution_count": 10,
     "metadata": {},
     "output_type": "execute_result"
    }
   ],
   "source": [
    "suite = unittest.TestSuite()\n",
    "suite.addTest(TestDatabehandling(\"test_validate_luftkvalitet_data\"))\n",
    "runner = unittest.TextTestRunner()\n",
    "runner.run(suite)"
   ]
  },
  {
   "cell_type": "code",
   "execution_count": 11,
   "metadata": {},
   "outputs": [
    {
     "name": "stderr",
     "output_type": "stream",
     "text": [
      ".\n",
      "----------------------------------------------------------------------\n",
      "Ran 1 test in 0.012s\n",
      "\n",
      "OK\n"
     ]
    },
    {
     "data": {
      "text/plain": [
       "<unittest.runner.TextTestResult run=1 errors=0 failures=0>"
      ]
     },
     "execution_count": 11,
     "metadata": {},
     "output_type": "execute_result"
    }
   ],
   "source": [
    "suite = unittest.TestSuite()\n",
    "suite.addTest(TestDatabehandling(\"test_check_odd_values_output\"))\n",
    "runner = unittest.TextTestRunner()\n",
    "runner.run(suite)"
   ]
  },
  {
   "cell_type": "code",
   "execution_count": 12,
   "metadata": {},
   "outputs": [
    {
     "name": "stderr",
     "output_type": "stream",
     "text": [
      ".\n",
      "----------------------------------------------------------------------\n",
      "Ran 1 test in 0.002s\n",
      "\n",
      "OK\n"
     ]
    },
    {
     "data": {
      "text/plain": [
       "<unittest.runner.TextTestResult run=1 errors=0 failures=0>"
      ]
     },
     "execution_count": 12,
     "metadata": {},
     "output_type": "execute_result"
    }
   ],
   "source": [
    "suite = unittest.TestSuite()\n",
    "suite.addTest(TestDatabehandling(\"test_file_not_found\"))\n",
    "runner = unittest.TextTestRunner()\n",
    "runner.run(suite)"
   ]
  }
 ],
 "metadata": {
  "kernelspec": {
   "display_name": "venv",
   "language": "python",
   "name": "python3"
  },
  "language_info": {
   "codemirror_mode": {
    "name": "ipython",
    "version": 3
   },
   "file_extension": ".py",
   "mimetype": "text/x-python",
   "name": "python",
   "nbconvert_exporter": "python",
   "pygments_lexer": "ipython3",
   "version": "3.13.1"
  }
 },
 "nbformat": 4,
 "nbformat_minor": 2
}
